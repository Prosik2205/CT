{
 "cells": [
  {
   "cell_type": "code",
   "execution_count": 1,
   "metadata": {},
   "outputs": [
    {
     "name": "stdout",
     "output_type": "stream",
     "text": [
      "Дані успішно завантажено з CSV-файлу до бази даних.\n"
     ]
    }
   ],
   "source": [
    "import psycopg2\n",
    "from psycopg2 import sql\n",
    "\n",
    "conn = psycopg2.connect(\n",
    "    dbname=\"sky\",\n",
    "    user=\"postgres\",\n",
    "    password=\"Warlock558\",\n",
    "    host=\"::1\",\n",
    "    port=\"5432\"\n",
    ")\n",
    "\n",
    "cur = conn.cursor()\n",
    "\n",
    "csv_file_path = 'iridium.csv'\n",
    "\n",
    "table_name = 'iridium'\n",
    "\n",
    "sql_query = sql.SQL(\"\"\"\n",
    "    COPY {} FROM stdin WITH CSV HEADER;\n",
    "\"\"\").format(sql.Identifier(table_name))\n",
    "\n",
    "try:\n",
    "    with open(csv_file_path, 'r') as f:\n",
    "        cur.copy_expert(sql_query, f)\n",
    "    conn.commit()\n",
    "    print(\"Дані успішно завантажено з CSV-файлу до бази даних.\")\n",
    "except psycopg2.Error as e:\n",
    "    conn.rollback()\n",
    "    print(\"Помилка під час завантаження даних:\", e)\n",
    "finally:\n",
    "\n",
    "    cur.close()\n",
    "    conn.close()\n"
   ]
  }
 ],
 "metadata": {
  "kernelspec": {
   "display_name": "Python 3",
   "language": "python",
   "name": "python3"
  },
  "language_info": {
   "codemirror_mode": {
    "name": "ipython",
    "version": 3
   },
   "file_extension": ".py",
   "mimetype": "text/x-python",
   "name": "python",
   "nbconvert_exporter": "python",
   "pygments_lexer": "ipython3",
   "version": "3.12.0"
  }
 },
 "nbformat": 4,
 "nbformat_minor": 2
}
