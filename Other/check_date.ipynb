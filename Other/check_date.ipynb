{
 "cells": [
  {
   "cell_type": "code",
   "execution_count": 1,
   "metadata": {},
   "outputs": [],
   "source": [
    "import csv\n",
    "\n",
    "def compare_and_update_csv(file1_path, file2_path, output_file_path):\n",
    "    unique_rows = set()\n",
    "\n",
    "    # Зчитування унікальних рядків з першого файлу\n",
    "    with open(file1_path, 'r', newline='') as file1:\n",
    "        reader = csv.reader(file1)\n",
    "        for row in reader:\n",
    "            unique_rows.add(tuple(row))\n",
    "\n",
    "    # Додавання унікальних рядків з другого файлу\n",
    "    with open(file2_path, 'r', newline='') as file2:\n",
    "        reader = csv.reader(file2)\n",
    "        for row in reader:\n",
    "            unique_rows.add(tuple(row))\n",
    "\n",
    "    # Запис унікальних рядків у вихідний файл\n",
    "    with open(output_file_path, 'w', newline='') as output_file:\n",
    "        writer = csv.writer(output_file)\n",
    "        for row in unique_rows:\n",
    "            writer.writerow(row)\n",
    "\n",
    "# Шляхи до двох CSV-файлів і до нового файлу\n",
    "csv_file1_path = 'db.csv'\n",
    "csv_file2_path = 'db1.csv'\n",
    "output_file_path = 'output.csv'\n",
    "\n",
    "# Виклик функції для порівняння та оновлення файлів\n",
    "compare_and_update_csv(csv_file1_path, csv_file2_path, output_file_path)"
   ]
  }
 ],
 "metadata": {
  "kernelspec": {
   "display_name": "Python 3",
   "language": "python",
   "name": "python3"
  },
  "language_info": {
   "codemirror_mode": {
    "name": "ipython",
    "version": 3
   },
   "file_extension": ".py",
   "mimetype": "text/x-python",
   "name": "python",
   "nbconvert_exporter": "python",
   "pygments_lexer": "ipython3",
   "version": "3.12.0"
  }
 },
 "nbformat": 4,
 "nbformat_minor": 2
}
