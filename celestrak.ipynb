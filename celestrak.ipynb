{
 "cells": [
  {
   "cell_type": "code",
   "execution_count": 8,
   "metadata": {},
   "outputs": [
    {
     "name": "stdout",
     "output_type": "stream",
     "text": [
      "Продолжение работы...\n"
     ]
    },
    {
     "name": "stdout",
     "output_type": "stream",
     "text": [
      "Данные обновлены и добавлены в db.csv\n",
      "Данные обновлены и добавлены в db.csv\n",
      "Данные обновлены и добавлены в db.csv\n",
      "Данные обновлены и добавлены в db.csv\n",
      "Данные обновлены и добавлены в db.csv\n"
     ]
    }
   ],
   "source": [
    "import requests\n",
    "import csv\n",
    "import time\n",
    "import threading\n",
    "\n",
    "def fetch_and_save_data(api_url, output_file):\n",
    "    while True:\n",
    "        try:\n",
    "            response = requests.get(api_url)\n",
    "            \n",
    "            if response.status_code == 200:\n",
    "                data = response.json()\n",
    "\n",
    "                with open(output_file, 'a', newline='', encoding='utf-8') as file:\n",
    "                    writer = csv.DictWriter(file, fieldnames=data[0].keys())\n",
    "\n",
    "                    if file.tell() == 0:\n",
    "                        writer.writeheader()\n",
    "\n",
    "                    for item in data:\n",
    "                        writer.writerow(item)\n",
    "\n",
    "                print(f\"Данные обновлены и добавлены в {output_file}\")\n",
    "            else:\n",
    "                print(f\"Ошибка получения данных. Статус код: {response.status_code}\")\n",
    "\n",
    "        except Exception as e:\n",
    "            print(f\"Возникла ошибка: {str(e)}\")\n",
    "\n",
    "        time.sleep(864000)\n",
    "\n",
    "api_url = \"https://celestrak.org/NORAD/elements/gp.php?GROUP=last-30-days&FORMAT=json\"\n",
    "output_file = \"db.csv\"\n",
    "\n",
    "fetch_thread = threading.Thread(target=fetch_and_save_data, args=(api_url, output_file))\n",
    "fetch_thread.start()\n",
    "\n",
    "print(\"Продолжение работы...\")\n"
   ]
  }
 ],
 "metadata": {
  "kernelspec": {
   "display_name": "Python 3",
   "language": "python",
   "name": "python3"
  },
  "language_info": {
   "codemirror_mode": {
    "name": "ipython",
    "version": 3
   },
   "file_extension": ".py",
   "mimetype": "text/x-python",
   "name": "python",
   "nbconvert_exporter": "python",
   "pygments_lexer": "ipython3",
   "version": "3.12.0"
  }
 },
 "nbformat": 4,
 "nbformat_minor": 2
}
