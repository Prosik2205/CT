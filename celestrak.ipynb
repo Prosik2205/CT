{
 "cells": [
  {
   "cell_type": "code",
   "execution_count": 3,
   "metadata": {},
   "outputs": [
    {
     "name": "stdout",
     "output_type": "stream",
     "text": [
      "Данные обновлены и сохранены в db.csv\n",
      "Продолжение работы...\n"
     ]
    }
   ],
   "source": [
    "import requests\n",
    "import csv\n",
    "\n",
    "def fetch_and_save_data(api_url, output_file):\n",
    "    try:\n",
    "        response = requests.get(api_url)\n",
    "        \n",
    "        if response.status_code == 200:\n",
    "            data = response.json()\n",
    "\n",
    "            with open(output_file, 'w', newline='', encoding='utf-8') as file:\n",
    "                writer = csv.DictWriter(file, fieldnames=data[0].keys())\n",
    "                writer.writeheader()\n",
    "                for item in data:\n",
    "                    writer.writerow(item)\n",
    "\n",
    "            print(f\"Дані оновлені та записані в{output_file}\")\n",
    "        else:\n",
    "            print(f\"Помилка отримання даних. Статус коду: {response.status_code}\")\n",
    "\n",
    "    except Exception as e:\n",
    "        print(f\"Виникла помилка: {str(e)}\")\n",
    "\n",
    "api_url = \"https://celestrak.org/NORAD/elements/gp.php?GROUP=last-30-days&FORMAT=json\"\n",
    "output_file = \"db.csv\"\n",
    "\n",
    "fetch_and_save_data(api_url, output_file)\n",
    "\n",
    "# Продолжаем с остальной частью кода\n",
    "print(\"Продолжение работы...\")\n"
   ]
  }
 ],
 "metadata": {
  "kernelspec": {
   "display_name": "Python 3",
   "language": "python",
   "name": "python3"
  },
  "language_info": {
   "codemirror_mode": {
    "name": "ipython",
    "version": 3
   },
   "file_extension": ".py",
   "mimetype": "text/x-python",
   "name": "python",
   "nbconvert_exporter": "python",
   "pygments_lexer": "ipython3",
   "version": "3.12.0"
  }
 },
 "nbformat": 4,
 "nbformat_minor": 2
}
