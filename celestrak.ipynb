{
 "cells": [
  {
   "cell_type": "code",
   "execution_count": 1,
   "metadata": {},
   "outputs": [
    {
     "name": "stdout",
     "output_type": "stream",
     "text": [
      "Дані оновлені та записані вdb.csv\n",
      "Кількість рядків у файлі: 162\n",
      "Дані оновлені та записані вdb.csv\n",
      "Кількість рядків у файлі: 162\n"
     ]
    },
    {
     "ename": "KeyboardInterrupt",
     "evalue": "",
     "output_type": "error",
     "traceback": [
      "\u001b[1;31m---------------------------------------------------------------------------\u001b[0m",
      "\u001b[1;31mKeyboardInterrupt\u001b[0m                         Traceback (most recent call last)",
      "Cell \u001b[1;32mIn[1], line 52\u001b[0m\n\u001b[0;32m     50\u001b[0m \u001b[38;5;28;01mwhile\u001b[39;00m \u001b[38;5;28;01mTrue\u001b[39;00m:\n\u001b[0;32m     51\u001b[0m     schedule\u001b[38;5;241m.\u001b[39mrun_pending()\n\u001b[1;32m---> 52\u001b[0m     \u001b[43mtime\u001b[49m\u001b[38;5;241;43m.\u001b[39;49m\u001b[43msleep\u001b[49m\u001b[43m(\u001b[49m\u001b[38;5;241;43m5\u001b[39;49m\u001b[43m)\u001b[49m\n",
      "\u001b[1;31mKeyboardInterrupt\u001b[0m: "
     ]
    }
   ],
   "source": [
    "import requests\n",
    "import csv\n",
    "import schedule\n",
    "import time\n",
    "\n",
    "def fetch_and_save_data(api_url, output_file):\n",
    "    try:\n",
    "        response = requests.get(api_url)\n",
    "        \n",
    "        if response.status_code == 200:\n",
    "            data = response.json()\n",
    "\n",
    "            with open(output_file, 'w', newline='', encoding='utf-8') as file:\n",
    "                writer = csv.DictWriter(file, fieldnames=data[0].keys())\n",
    "\n",
    "                if file.tell() == 0:\n",
    "                    writer.writeheader()\n",
    "\n",
    "                for item in data:\n",
    "                    writer.writerow(item)\n",
    "\n",
    "            print(f\"Дані оновлені та записані в {output_file}\")\n",
    "        else:\n",
    "            print(f\"Помилка отримання даних. Статус коду:  {response.status_code}\")\n",
    "\n",
    "    except Exception as e:\n",
    "        print(f\"Виникла помилка: {str(e)}\")\n",
    "\n",
    "def count_lines_in_file(file_path):\n",
    "    line_count = 0\n",
    "    with open(file_path, 'r', encoding='utf-8') as file:\n",
    "        for line in file:\n",
    "            line_count += 1\n",
    "    return line_count\n",
    "\n",
    "def job():\n",
    "    api_url = \"https://celestrak.org/NORAD/elements/gp.php?GROUP=last-30-days&FORMAT=json\"\n",
    "    output_file = f\"db.csv\"\n",
    "    \n",
    "    fetch_and_save_data(api_url, output_file)\n",
    "    \n",
    "    result = count_lines_in_file(output_file)\n",
    "    print(\"Кількість рядків у файлі:\", result)\n",
    "\n",
    "    # _{datetime.datetime.now()}\n",
    "# schedule.every().day.at(\"12:00\").do(job)\n",
    "schedule.every(10).seconds.do(job)  \n",
    "\n",
    "while True:\n",
    "    schedule.run_pending()\n",
    "    time.sleep(5)\n"
   ]
  }
 ],
 "metadata": {
  "kernelspec": {
   "display_name": "Python 3",
   "language": "python",
   "name": "python3"
  },
  "language_info": {
   "codemirror_mode": {
    "name": "ipython",
    "version": 3
   },
   "file_extension": ".py",
   "mimetype": "text/x-python",
   "name": "python",
   "nbconvert_exporter": "python",
   "pygments_lexer": "ipython3",
   "version": "3.12.0"
  }
 },
 "nbformat": 4,
 "nbformat_minor": 2
}
