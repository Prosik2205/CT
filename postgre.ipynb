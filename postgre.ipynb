{
 "cells": [
  {
   "cell_type": "code",
   "execution_count": 7,
   "metadata": {},
   "outputs": [
    {
     "name": "stdout",
     "output_type": "stream",
     "text": [
      "Дані успішно завантажено з CSV-файлу до бази даних.\n"
     ]
    },
    {
     "ename": "ProgrammingError",
     "evalue": "no results to fetch",
     "output_type": "error",
     "traceback": [
      "\u001b[1;31m---------------------------------------------------------------------------\u001b[0m",
      "\u001b[1;31mProgrammingError\u001b[0m                          Traceback (most recent call last)",
      "Cell \u001b[1;32mIn[7], line 40\u001b[0m\n\u001b[0;32m     35\u001b[0m     \u001b[38;5;28mprint\u001b[39m(\u001b[38;5;124m\"\u001b[39m\u001b[38;5;124mПомилка під час завантаження даних:\u001b[39m\u001b[38;5;124m\"\u001b[39m, e)\n\u001b[0;32m     36\u001b[0m \u001b[38;5;28;01mfinally\u001b[39;00m:\n\u001b[0;32m     37\u001b[0m     \u001b[38;5;66;03m# Закриваємо курсор та з'єднання\u001b[39;00m\n\u001b[1;32m---> 40\u001b[0m  rows \u001b[38;5;241m=\u001b[39m \u001b[43mcur\u001b[49m\u001b[38;5;241;43m.\u001b[39;49m\u001b[43mfetchall\u001b[49m\u001b[43m(\u001b[49m\u001b[43m)\u001b[49m\n\u001b[0;32m     41\u001b[0m \u001b[38;5;66;03m# Виведення результатів\u001b[39;00m\n\u001b[0;32m     42\u001b[0m \u001b[38;5;28;01mfor\u001b[39;00m row \u001b[38;5;129;01min\u001b[39;00m rows:\n",
      "\u001b[1;31mProgrammingError\u001b[0m: no results to fetch"
     ]
    }
   ],
   "source": [
    "import psycopg2\n",
    "from psycopg2 import sql\n",
    "import csv\n",
    "\n",
    "# Підключення до бази даних\n",
    "conn = psycopg2.connect(\n",
    "    dbname=\"test\",\n",
    "    user=\"postgres\",\n",
    "    password=\"Warlock558\",\n",
    "    host=\"::1\",\n",
    "    port=\"5432\"\n",
    ")\n",
    "\n",
    "# Відкриваємо курсор для виконання SQL-запитів\n",
    "cur = conn.cursor()\n",
    "\n",
    "# Шлях до CSV-файлу\n",
    "csv_file_path = 'db.csv'\n",
    "\n",
    "# Назва таблиці у базі даних\n",
    "table_name = 'test'\n",
    "\n",
    "sql_query = sql.SQL(\"\"\"\n",
    "    COPY {} FROM stdin WITH CSV HEADER;\n",
    "\"\"\").format(sql.Identifier(table_name))\n",
    "\n",
    "# Виконання SQL-запиту\n",
    "try:\n",
    "    with open(csv_file_path, 'r') as f:\n",
    "        cur.copy_expert(sql_query, f)\n",
    "    conn.commit()\n",
    "    print(\"Дані успішно завантажено з CSV-файлу до бази даних.\")\n",
    "except psycopg2.Error as e:\n",
    "    conn.rollback()\n",
    "    print(\"Помилка під час завантаження даних:\", e)\n",
    "finally:\n",
    "    # Закриваємо курсор та з'єднання\n",
    "\n",
    "    cur.close()\n",
    "    conn.close()\n"
   ]
  }
 ],
 "metadata": {
  "kernelspec": {
   "display_name": "Python 3",
   "language": "python",
   "name": "python3"
  },
  "language_info": {
   "codemirror_mode": {
    "name": "ipython",
    "version": 3
   },
   "file_extension": ".py",
   "mimetype": "text/x-python",
   "name": "python",
   "nbconvert_exporter": "python",
   "pygments_lexer": "ipython3",
   "version": "3.12.0"
  }
 },
 "nbformat": 4,
 "nbformat_minor": 2
}
