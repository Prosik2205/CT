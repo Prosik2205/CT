{
 "cells": [
  {
   "cell_type": "code",
   "execution_count": 1,
   "metadata": {},
   "outputs": [
    {
     "name": "stdout",
     "output_type": "stream",
     "text": [
      "Дані успішно перезаписано з CSV-файлу до бази даних.\n"
     ]
    },
    {
     "ename": "KeyboardInterrupt",
     "evalue": "",
     "output_type": "error",
     "traceback": [
      "\u001b[1;31m---------------------------------------------------------------------------\u001b[0m",
      "\u001b[1;31mKeyboardInterrupt\u001b[0m                         Traceback (most recent call last)",
      "Cell \u001b[1;32mIn[1], line 46\u001b[0m\n\u001b[0;32m     44\u001b[0m \u001b[38;5;28;01mwhile\u001b[39;00m \u001b[38;5;28;01mTrue\u001b[39;00m:\n\u001b[0;32m     45\u001b[0m     schedule\u001b[38;5;241m.\u001b[39mrun_pending()\n\u001b[1;32m---> 46\u001b[0m     \u001b[43mtime\u001b[49m\u001b[38;5;241;43m.\u001b[39;49m\u001b[43msleep\u001b[49m\u001b[43m(\u001b[49m\u001b[38;5;241;43m5\u001b[39;49m\u001b[43m)\u001b[49m\n",
      "\u001b[1;31mKeyboardInterrupt\u001b[0m: "
     ]
    }
   ],
   "source": [
    "import schedule\n",
    "import time\n",
    "import psycopg2\n",
    "from psycopg2 import sql\n",
    "\n",
    "def load_data():\n",
    "    conn = psycopg2.connect(\n",
    "        dbname=\"Nasa\",\n",
    "        user=\"postgres\",\n",
    "        password=\"SvetikAB\",\n",
    "        host=\"35.226.174.213\",\n",
    "        port=\"5432\"\n",
    "    )\n",
    "    cur = conn.cursor()\n",
    "    csv_file_path = 'db.csv'\n",
    "    table_name = 'satellitedata'\n",
    "    check_data_query = sql.SQL(\"SELECT EXISTS (SELECT 1 FROM {});\").format(sql.Identifier(table_name))\n",
    "    cur.execute(check_data_query)\n",
    "    data_exists = cur.fetchone()[0]\n",
    "    if data_exists:\n",
    "        delete_query = sql.SQL(\"DELETE FROM {};\").format(sql.Identifier(table_name))\n",
    "        cur.execute(delete_query)\n",
    "    sql_query = sql.SQL(\"\"\"\n",
    "        COPY {} FROM stdin WITH CSV HEADER;\n",
    "    \"\"\").format(sql.Identifier(table_name))\n",
    "    try:\n",
    "        with open(csv_file_path, 'r') as f:\n",
    "            cur.copy_expert(sql_query, f)\n",
    "        conn.commit()\n",
    "        if data_exists:\n",
    "            print(\"Дані успішно перезаписано з CSV-файлу до бази даних.\")\n",
    "        else:\n",
    "            print(\"Дані успішно завантажено з CSV-файлу до бази даних.\")\n",
    "    except psycopg2.Error as e:\n",
    "        conn.rollback()\n",
    "        print(\"Помилка під час завантаження даних:\", e)\n",
    "    finally:\n",
    "        cur.close()\n",
    "        conn.close()\n",
    "\n",
    "# schedule.every().day.at(\"03:00\").do(load_data)\n",
    "schedule.every(10).seconds.do(load_data)  \n",
    "\n",
    "while True:\n",
    "    schedule.run_pending()\n",
    "    time.sleep(5)\n",
    "\n"
   ]
  }
 ],
 "metadata": {
  "kernelspec": {
   "display_name": "Python 3",
   "language": "python",
   "name": "python3"
  },
  "language_info": {
   "codemirror_mode": {
    "name": "ipython",
    "version": 3
   },
   "file_extension": ".py",
   "mimetype": "text/x-python",
   "name": "python",
   "nbconvert_exporter": "python",
   "pygments_lexer": "ipython3",
   "version": "3.12.0"
  }
 },
 "nbformat": 4,
 "nbformat_minor": 2
}
